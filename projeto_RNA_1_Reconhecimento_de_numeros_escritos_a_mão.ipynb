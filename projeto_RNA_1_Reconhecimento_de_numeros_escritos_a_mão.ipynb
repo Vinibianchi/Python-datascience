{
  "nbformat": 4,
  "nbformat_minor": 0,
  "metadata": {
    "colab": {
      "name": "projeto RNA 1 - Reconhecimento de numeros escritos a mão.ipynb",
      "provenance": [],
      "authorship_tag": "ABX9TyOfDPlw4EcWCfgfPmgyEcMa",
      "include_colab_link": true
    },
    "kernelspec": {
      "name": "python3",
      "display_name": "Python 3"
    },
    "language_info": {
      "name": "python"
    },
    "accelerator": "GPU"
  },
  "cells": [
    {
      "cell_type": "markdown",
      "metadata": {
        "id": "view-in-github",
        "colab_type": "text"
      },
      "source": [
        "<a href=\"https://colab.research.google.com/github/Vinibianchi/Python-datascience/blob/master/projeto_RNA_1_Reconhecimento_de_numeros_escritos_a_m%C3%A3o.ipynb\" target=\"_parent\"><img src=\"https://colab.research.google.com/assets/colab-badge.svg\" alt=\"Open In Colab\"/></a>"
      ]
    },
    {
      "cell_type": "code",
      "metadata": {
        "id": "h3CxpnN1uyn7"
      },
      "source": [
        "import numpy\n",
        "from matplotlib import pyplot as plt\n",
        "\n",
        "# Inicios das importações do Keras (modelos de DP)\n",
        "from keras.datasets import mnist    # Importar o ddataset mnist\n",
        "from keras.models import Sequential \n",
        "from keras.layers import Dense, InputLayer\n",
        "from keras.layers import Dropout\n",
        "from keras.utils import np_utils"
      ],
      "execution_count": 1,
      "outputs": []
    },
    {
      "cell_type": "code",
      "metadata": {
        "id": "B8tFbvEj0QpO",
        "colab": {
          "base_uri": "https://localhost:8080/"
        },
        "outputId": "5989648d-22c3-45a0-9dc4-e1774172dc37"
      },
      "source": [
        "(x_train, y_train), (x_test, y_test) = mnist.load_data()"
      ],
      "execution_count": 2,
      "outputs": [
        {
          "output_type": "stream",
          "text": [
            "Downloading data from https://storage.googleapis.com/tensorflow/tf-keras-datasets/mnist.npz\n",
            "11493376/11490434 [==============================] - 0s 0us/step\n",
            "11501568/11490434 [==============================] - 0s 0us/step\n"
          ],
          "name": "stdout"
        }
      ]
    },
    {
      "cell_type": "code",
      "metadata": {
        "colab": {
          "base_uri": "https://localhost:8080/"
        },
        "id": "zsVxqdStx7TW",
        "outputId": "470d54dc-b9d2-42b7-f0ac-01e642578161"
      },
      "source": [
        "print(x_train.shape)\n",
        "first_image = x_train[1002]"
      ],
      "execution_count": 27,
      "outputs": [
        {
          "output_type": "stream",
          "text": [
            "(60000, 28, 28)\n"
          ],
          "name": "stdout"
        }
      ]
    },
    {
      "cell_type": "code",
      "metadata": {
        "colab": {
          "base_uri": "https://localhost:8080/",
          "height": 282
        },
        "id": "KJ0pakR_0PD-",
        "outputId": "a7551b99-f6b6-4f29-8497-7a13b7cce579"
      },
      "source": [
        "first_image = numpy.array(first_image, dtype = 'float')\n",
        "pixels = first_image.reshape((28,28))\n",
        "plt.imshow(pixels, cmap='gray') \n",
        "plt.show()\n",
        "\n",
        "print(y_train[1002])"
      ],
      "execution_count": 28,
      "outputs": [
        {
          "output_type": "display_data",
          "data": {
            "image/png": "[encoded data removed]",
            "text/plain": [
              "<Figure size 432x288 with 1 Axes>"
            ]
          },
          "metadata": {
            "tags": [],
            "needs_background": "light"
          }
        },
        {
          "output_type": "stream",
          "text": [
            "1\n"
          ],
          "name": "stdout"
        }
      ]
    },
    {
      "cell_type": "markdown",
      "metadata": {
        "id": "yj_2lqc8R6b2"
      },
      "source": [
        "\n",
        "# Transfirmando dados\n"
      ]
    },
    {
      "cell_type": "code",
      "metadata": {
        "colab": {
          "base_uri": "https://localhost:8080/"
        },
        "id": "ImGTeFzO2MlW",
        "outputId": "85f42e16-c461-4938-b691-89226b8cb635"
      },
      "source": [
        "num_pixels = x_train.shape[1] * x_train.shape[2]\n",
        "print(num_pixels)"
      ],
      "execution_count": 5,
      "outputs": [
        {
          "output_type": "stream",
          "text": [
            "784\n"
          ],
          "name": "stdout"
        }
      ]
    },
    {
      "cell_type": "code",
      "metadata": {
        "id": "G7g0koBIQkvx"
      },
      "source": [
        "# Transformando para float32\n",
        "x_train2 = x_train.reshape(x_train.shape[0], num_pixels).astype('float32')\n",
        "x_test2 = x_test.reshape(x_test.shape[0], num_pixels).astype('float32')\n",
        "\n",
        "\n",
        "# Normalizando dos valores dos pixels entre 0 e 1 \n",
        "\n",
        "x_train2 = x_train2/255\n",
        "x_test2 = x_test2/255\n",
        "\n",
        "\n",
        "\n"
      ],
      "execution_count": 6,
      "outputs": []
    },
    {
      "cell_type": "code",
      "metadata": {
        "colab": {
          "base_uri": "https://localhost:8080/"
        },
        "id": "53-R0iqMQkyh",
        "outputId": "fbaf3cb7-b062-4643-9b63-a0352dff0c7a"
      },
      "source": [
        "x_test2.shape"
      ],
      "execution_count": 7,
      "outputs": [
        {
          "output_type": "execute_result",
          "data": {
            "text/plain": [
              "(10000, 784)"
            ]
          },
          "metadata": {
            "tags": []
          },
          "execution_count": 7
        }
      ]
    },
    {
      "cell_type": "code",
      "metadata": {
        "colab": {
          "base_uri": "https://localhost:8080/"
        },
        "id": "UVGuv9LuQk1c",
        "outputId": "9d1e78b1-31a7-4cce-e9bc-8f9aed8a9598"
      },
      "source": [
        "x_train2.shape"
      ],
      "execution_count": 8,
      "outputs": [
        {
          "output_type": "execute_result",
          "data": {
            "text/plain": [
              "(60000, 784)"
            ]
          },
          "metadata": {
            "tags": []
          },
          "execution_count": 8
        }
      ]
    },
    {
      "cell_type": "code",
      "metadata": {
        "id": "N84RUv7zQk4D"
      },
      "source": [
        ""
      ],
      "execution_count": null,
      "outputs": []
    },
    {
      "cell_type": "code",
      "metadata": {
        "colab": {
          "base_uri": "https://localhost:8080/"
        },
        "id": "XAdrhs9rQk6t",
        "outputId": "f76bfa3c-eecb-4921-d26d-f1ec0a80e6f8"
      },
      "source": [
        "print(y_train[1000])"
      ],
      "execution_count": 9,
      "outputs": [
        {
          "output_type": "stream",
          "text": [
            "0\n"
          ],
          "name": "stdout"
        }
      ]
    },
    {
      "cell_type": "code",
      "metadata": {
        "colab": {
          "base_uri": "https://localhost:8080/"
        },
        "id": "Np1im0k_Qk9Z",
        "outputId": "3a1b821e-6bf3-4b5f-88f0-39edfd16c5e1"
      },
      "source": [
        "# Transforma os datasets em one-hot vector\n",
        "\n",
        "y_train_h = np_utils.to_categorical(y_train)\n",
        "y_test_h = np_utils.to_categorical(y_test)\n",
        "\n",
        "# Obtendo o número de Classes do problema\n",
        "num_classes = y_test_h.shape[1]\n",
        "\n",
        "print(num_pixels)\n",
        "print(y_train[1001])\n",
        "print(y_train_h[1001])"
      ],
      "execution_count": 10,
      "outputs": [
        {
          "output_type": "stream",
          "text": [
            "784\n",
            "7\n",
            "[0. 0. 0. 0. 0. 0. 0. 1. 0. 0.]\n"
          ],
          "name": "stdout"
        }
      ]
    },
    {
      "cell_type": "markdown",
      "metadata": {
        "id": "iOjTLhgBlMvv"
      },
      "source": [
        "# Criação do Modelo"
      ]
    },
    {
      "cell_type": "code",
      "metadata": {
        "colab": {
          "base_uri": "https://localhost:8080/"
        },
        "id": "JCRUUXGKQlAJ",
        "outputId": "efb35597-1549-4bc3-e2ab-4f56f6eafef4"
      },
      "source": [
        "model = Sequential() # Define o modelo do tipo feedforward\n",
        "\n",
        "model.add(InputLayer(input_shape = num_pixels))\n",
        "model.add(Dense(1024, kernel_initializer = 'normal', activation='relu')) # Cria a primeira camada com 1024 neuronios, inicializacao dos parametros seguindo a curva normal e funcao de ativacao relu\n",
        "model.add(Dense(2048, kernel_initializer= 'normal', activation='relu')) # cria segunda camada com 2048 neuronios \n",
        "model.add(Dense(num_classes, kernel_initializer='normal', activation= 'softmax')) # Cria a camada de saída. A ativação softmax normaliza a saida do vector, para melhor treinar o modelo\n",
        "\n",
        "model.summary()"
      ],
      "execution_count": 11,
      "outputs": [
        {
          "output_type": "stream",
          "text": [
            "Model: \"sequential\"\n",
            "_________________________________________________________________\n",
            "Layer (type)                 Output Shape              Param #   \n",
            "=================================================================\n",
            "dense (Dense)                (None, 1024)              803840    \n",
            "_________________________________________________________________\n",
            "dense_1 (Dense)              (None, 2048)              2099200   \n",
            "_________________________________________________________________\n",
            "dense_2 (Dense)              (None, 10)                20490     \n",
            "=================================================================\n",
            "Total params: 2,923,530\n",
            "Trainable params: 2,923,530\n",
            "Non-trainable params: 0\n",
            "_________________________________________________________________\n"
          ],
          "name": "stdout"
        }
      ]
    },
    {
      "cell_type": "markdown",
      "metadata": {
        "id": "XX7EgVNfnk-m"
      },
      "source": [
        "# Treinamento do Modelo"
      ]
    },
    {
      "cell_type": "code",
      "metadata": {
        "id": "RO0rvyt8nqUi",
        "colab": {
          "base_uri": "https://localhost:8080/"
        },
        "outputId": "c44674f2-b1a2-49a8-e1e7-64b2ee4aab9d"
      },
      "source": [
        "model.compile(loss='categorical_crossentropy', optimizer='adam', metrics = [\"accuracy\"]) # compila o modelo criado\n",
        "result = model.fit(x_train2, y_train_h, validation_data = (x_test2, y_test_h), epochs=20, verbose =1, batch_size=100)"
      ],
      "execution_count": 12,
      "outputs": [
        {
          "output_type": "stream",
          "text": [
            "Epoch 1/20\n",
            "600/600 [==============================] - 17s 4ms/step - loss: 0.3334 - accuracy: 0.9018 - val_loss: 0.1064 - val_accuracy: 0.9667\n",
            "Epoch 2/20\n",
            "600/600 [==============================] - 2s 3ms/step - loss: 0.0681 - accuracy: 0.9780 - val_loss: 0.0764 - val_accuracy: 0.9750\n",
            "Epoch 3/20\n",
            "600/600 [==============================] - 2s 3ms/step - loss: 0.0398 - accuracy: 0.9877 - val_loss: 0.0841 - val_accuracy: 0.9759\n",
            "Epoch 4/20\n",
            "600/600 [==============================] - 2s 3ms/step - loss: 0.0316 - accuracy: 0.9896 - val_loss: 0.0827 - val_accuracy: 0.9757\n",
            "Epoch 5/20\n",
            "600/600 [==============================] - 2s 3ms/step - loss: 0.0292 - accuracy: 0.9902 - val_loss: 0.0717 - val_accuracy: 0.9801\n",
            "Epoch 6/20\n",
            "600/600 [==============================] - 2s 3ms/step - loss: 0.0192 - accuracy: 0.9938 - val_loss: 0.1023 - val_accuracy: 0.9759\n",
            "Epoch 7/20\n",
            "600/600 [==============================] - 2s 3ms/step - loss: 0.0226 - accuracy: 0.9925 - val_loss: 0.1111 - val_accuracy: 0.9761\n",
            "Epoch 8/20\n",
            "600/600 [==============================] - 2s 3ms/step - loss: 0.0220 - accuracy: 0.9934 - val_loss: 0.0816 - val_accuracy: 0.9813\n",
            "Epoch 9/20\n",
            "600/600 [==============================] - 2s 3ms/step - loss: 0.0120 - accuracy: 0.9963 - val_loss: 0.0974 - val_accuracy: 0.9795\n",
            "Epoch 10/20\n",
            "600/600 [==============================] - 2s 3ms/step - loss: 0.0172 - accuracy: 0.9945 - val_loss: 0.0817 - val_accuracy: 0.9803\n",
            "Epoch 11/20\n",
            "600/600 [==============================] - 2s 3ms/step - loss: 0.0163 - accuracy: 0.9944 - val_loss: 0.1003 - val_accuracy: 0.9806\n",
            "Epoch 12/20\n",
            "600/600 [==============================] - 2s 3ms/step - loss: 0.0130 - accuracy: 0.9960 - val_loss: 0.0983 - val_accuracy: 0.9826\n",
            "Epoch 13/20\n",
            "600/600 [==============================] - 2s 3ms/step - loss: 0.0146 - accuracy: 0.9954 - val_loss: 0.1084 - val_accuracy: 0.9790\n",
            "Epoch 14/20\n",
            "600/600 [==============================] - 2s 3ms/step - loss: 0.0118 - accuracy: 0.9970 - val_loss: 0.0968 - val_accuracy: 0.9817\n",
            "Epoch 15/20\n",
            "600/600 [==============================] - 2s 3ms/step - loss: 0.0099 - accuracy: 0.9974 - val_loss: 0.0990 - val_accuracy: 0.9818\n",
            "Epoch 16/20\n",
            "600/600 [==============================] - 2s 3ms/step - loss: 0.0074 - accuracy: 0.9976 - val_loss: 0.0993 - val_accuracy: 0.9828\n",
            "Epoch 17/20\n",
            "600/600 [==============================] - 2s 3ms/step - loss: 0.0157 - accuracy: 0.9957 - val_loss: 0.1339 - val_accuracy: 0.9793\n",
            "Epoch 18/20\n",
            "600/600 [==============================] - 2s 3ms/step - loss: 0.0070 - accuracy: 0.9978 - val_loss: 0.1192 - val_accuracy: 0.9798\n",
            "Epoch 19/20\n",
            "600/600 [==============================] - 2s 3ms/step - loss: 0.0108 - accuracy: 0.9968 - val_loss: 0.0972 - val_accuracy: 0.9839\n",
            "Epoch 20/20\n",
            "600/600 [==============================] - 2s 3ms/step - loss: 0.0075 - accuracy: 0.9982 - val_loss: 0.0975 - val_accuracy: 0.9834\n"
          ],
          "name": "stdout"
        }
      ]
    },
    {
      "cell_type": "code",
      "metadata": {
        "colab": {
          "base_uri": "https://localhost:8080/"
        },
        "id": "Ce4eeFYTFG36",
        "outputId": "8b8cd2ec-f299-4ebd-dcff-86b247f56162"
      },
      "source": [
        "x = x_train2[1002]\n",
        "print(x.shape)\n",
        "\n",
        "x = numpy.expand_dims(x, axis = 0)\n",
        "print(x.shape)\n",
        "\n",
        "\n",
        "print(model.predict(x))\n",
        "print(numpy.argmax(model.predict(x)))"
      ],
      "execution_count": 25,
      "outputs": [
        {
          "output_type": "stream",
          "text": [
            "(784,)\n",
            "(1, 784)\n",
            "[[4.4511307e-19 1.0000000e+00 1.6817444e-17 6.3439738e-19 1.9905676e-14\n",
            "  5.0923477e-15 4.6260833e-17 5.4478317e-14 2.6548068e-11 2.4811006e-16]]\n",
            "1\n"
          ],
          "name": "stdout"
        }
      ]
    }
  ]
}